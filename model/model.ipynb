{
 "cells": [
  {
   "cell_type": "code",
   "execution_count": null,
   "metadata": {},
   "outputs": [],
   "source": []
  },
  {
   "cell_type": "code",
   "execution_count": 8,
   "metadata": {},
   "outputs": [
    {
     "name": "stderr",
     "output_type": "stream",
     "text": [
      "100%|██████████| 20131/20131 [00:03<00:00, 6393.72it/s]\n",
      "100%|██████████| 19575/19575 [00:01<00:00, 12806.55it/s]\n"
     ]
    }
   ],
   "source": [
    "from tqdm import tqdm\n",
    "import pandas as pd\n",
    "import numpy as np\n",
    "\n",
    "def convert(input_data, selected_fields, output_file):\n",
    "        output_data = pd.DataFrame()\n",
    "        for column in selected_fields:\n",
    "          # print(column)\n",
    "          output_data[column] = input_data.iloc[:,column]\n",
    "        with open(output_file, 'w') as fp:\n",
    "            fp.write('\\t'.join([selected_fields[column] for column in output_data.columns]) + '\\n')\n",
    "            for i in tqdm(range(output_data.shape[0])):\n",
    "                fp.write('\\t'.join([str(output_data.iloc[i, j])\n",
    "                                    for j in range(output_data.shape[1])]) + '\\n')\n",
    "# process the inter\n",
    "inter = pd.read_csv(\"./movie/inter.csv\")\n",
    "inter = inter.drop(\"movieid\", axis=1)\n",
    "inter = inter.rename(columns={\"userid\":\"userid:token\", \"tmdb_id\":\"tmdb_id:token\",\n",
    "\"popularity\":\"popularity:float\", \"vote_average\":\"vote_average:float\", \"rating\":\"rating:float\" }).sort_values(by=\"userid:token\").reset_index(drop=True)\n",
    " # convert the inter\n",
    "input_dict = {0:\"userid:token\", 1:\"tmdb_id:token\", 2:\"popularity:float\", 3:\"vote_average:float\", 4:\"rating:float\"}\n",
    "convert(inter, input_dict, \"./movie/movie.inter\")\n",
    "\n",
    "# process the user\n",
    "user = pd.read_csv(\"./movie/user.csv\")\n",
    "user = user.drop_duplicates(\"userid\")\n",
    "user = user.rename(columns={\"userid\":\"userid:token\", \"age\":\"age:token\",\n",
    "\"occupation\":\"occupation:float_seq\", \"gender\":\"gender:token\" }).sort_values(by=\"userid:token\").reset_index(drop=True)\n",
    "input_dict = {0:\"userid:token\", 1:\"age:token\", 2:\"occupation:float_seq\", 3:\"gender:token\"}\n",
    "convert(user, input_dict, \"./movie/movie.user\")\n",
    "\n",
    "#process the item\n",
    "user = pd.read_csv(\"./movie/item.csv\")\n",
    "user = user.drop_duplicates(\"userid\")\n",
    "user = user.rename(columns={\"userid\":\"userid:token\", \"age\":\"age:token\",\n",
    "\"occupation\":\"occupation:float_seq\", \"gender\":\"gender:token\" }).sort_values(by=\"userid:token\").reset_index(drop=True)\n",
    "input_dict = {0:\"userid:token\", 1:\"age:token\", 2:\"occupation:float_seq\", 3:\"gender:token\"}\n",
    "convert(user, input_dict, \"./movie/movie.user\")\n"
   ]
  },
  {
   "cell_type": "code",
   "execution_count": null,
   "metadata": {},
   "outputs": [],
   "source": [
    "\n",
    "\n"
   ]
  }
 ],
 "metadata": {
  "kernelspec": {
   "display_name": "Python 3.10.6 64-bit",
   "language": "python",
   "name": "python3"
  },
  "language_info": {
   "codemirror_mode": {
    "name": "ipython",
    "version": 3
   },
   "file_extension": ".py",
   "mimetype": "text/x-python",
   "name": "python",
   "nbconvert_exporter": "python",
   "pygments_lexer": "ipython3",
   "version": "3.10.6"
  },
  "orig_nbformat": 4,
  "vscode": {
   "interpreter": {
    "hash": "31f2aee4e71d21fbe5cf8b01ff0e069b9275f58929596ceb00d14d90e3e16cd6"
   }
  }
 },
 "nbformat": 4,
 "nbformat_minor": 2
}
